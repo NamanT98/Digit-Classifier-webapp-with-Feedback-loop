{
 "cells": [
  {
   "cell_type": "code",
   "execution_count": 12,
   "id": "0102a4bd",
   "metadata": {},
   "outputs": [],
   "source": [
    "import tensorflow as tf"
   ]
  },
  {
   "cell_type": "code",
   "execution_count": 3,
   "id": "01bdef73",
   "metadata": {},
   "outputs": [
    {
     "name": "stdout",
     "output_type": "stream",
     "text": [
      "Downloading data from https://storage.googleapis.com/tensorflow/tf-keras-datasets/mnist.npz\n",
      "11490434/11490434 [==============================] - 1s 0us/step\n"
     ]
    }
   ],
   "source": [
    "# load data from keras\n",
    "mnist=tf.keras.datasets.mnist\n",
    "(x_train,y_train),(x_test,y_test)=mnist.load_data()"
   ]
  },
  {
   "cell_type": "code",
   "execution_count": 5,
   "id": "54071b64",
   "metadata": {},
   "outputs": [
    {
     "name": "stdout",
     "output_type": "stream",
     "text": [
      "['Zero', 'One', 'Two', 'Three', 'Four', 'Five', 'Six', 'Seven', 'Eight', 'Nine']\n"
     ]
    }
   ],
   "source": [
    "class_names =['Zero', 'One', 'Two', 'Three', 'Four', 'Five', 'Six', 'Seven', 'Eight', 'Nine']\n",
    "print(class_names)"
   ]
  },
  {
   "cell_type": "code",
   "execution_count": 6,
   "id": "51d36fa8",
   "metadata": {},
   "outputs": [
    {
     "name": "stdout",
     "output_type": "stream",
     "text": [
      "(60000, 28, 28)\n",
      "(10000, 28, 28)\n"
     ]
    }
   ],
   "source": [
    "# normalize image pixels\n",
    "\n",
    "x_train=x_train/255.\n",
    "print(x_train.shape)\n",
    "x_test=x_test/255.\n",
    "print(x_test.shape)"
   ]
  },
  {
   "cell_type": "code",
   "execution_count": 9,
   "id": "351192bd",
   "metadata": {},
   "outputs": [],
   "source": [
    "# one hot encoding labels\n",
    "from tensorflow.keras.utils import to_categorical\n",
    "y_train=to_categorical(y_train)\n",
    "y_test=to_categorical(y_test)"
   ]
  },
  {
   "cell_type": "code",
   "execution_count": 14,
   "id": "bba41968",
   "metadata": {},
   "outputs": [
    {
     "name": "stdout",
     "output_type": "stream",
     "text": [
      "WARNING:tensorflow:From C:\\Users\\Naman\\AppData\\Roaming\\Python\\Python310\\site-packages\\keras\\src\\backend.py:873: The name tf.get_default_graph is deprecated. Please use tf.compat.v1.get_default_graph instead.\n",
      "\n",
      "WARNING:tensorflow:From C:\\Users\\Naman\\AppData\\Roaming\\Python\\Python310\\site-packages\\keras\\src\\layers\\pooling\\max_pooling2d.py:161: The name tf.nn.max_pool is deprecated. Please use tf.nn.max_pool2d instead.\n",
      "\n"
     ]
    }
   ],
   "source": [
    "# making model\n",
    "from tensorflow.keras import layers\n",
    "model=tf.keras.Sequential([\n",
    "    layers.Conv2D(6,(3,3),input_shape=(28,28,1),activation='relu'),\n",
    "    layers.MaxPooling2D(pool_size=(2,2)),\n",
    "    layers.Conv2D(10,(3,3),activation='relu'),\n",
    "    layers.MaxPooling2D(pool_size=(2,2)),\n",
    "    layers.Flatten(input_shape=(28,28)),\n",
    "    layers.Dense(128, activation='relu'),\n",
    "    layers.Dense(64, activation='relu'),\n",
    "    layers.Dense(16, activation='relu'),\n",
    "    layers.Dense(10, activation='softmax'),\n",
    "])"
   ]
  },
  {
   "cell_type": "code",
   "execution_count": 15,
   "id": "f2b5118d",
   "metadata": {},
   "outputs": [
    {
     "name": "stdout",
     "output_type": "stream",
     "text": [
      "WARNING:tensorflow:From C:\\Users\\Naman\\AppData\\Roaming\\Python\\Python310\\site-packages\\keras\\src\\optimizers\\__init__.py:309: The name tf.train.Optimizer is deprecated. Please use tf.compat.v1.train.Optimizer instead.\n",
      "\n",
      "Model: \"sequential\"\n",
      "_________________________________________________________________\n",
      " Layer (type)                Output Shape              Param #   \n",
      "=================================================================\n",
      " conv2d (Conv2D)             (None, 26, 26, 6)         60        \n",
      "                                                                 \n",
      " max_pooling2d (MaxPooling2  (None, 13, 13, 6)         0         \n",
      " D)                                                              \n",
      "                                                                 \n",
      " conv2d_1 (Conv2D)           (None, 11, 11, 10)        550       \n",
      "                                                                 \n",
      " max_pooling2d_1 (MaxPoolin  (None, 5, 5, 10)          0         \n",
      " g2D)                                                            \n",
      "                                                                 \n",
      " flatten (Flatten)           (None, 250)               0         \n",
      "                                                                 \n",
      " dense (Dense)               (None, 128)               32128     \n",
      "                                                                 \n",
      " dense_1 (Dense)             (None, 64)                8256      \n",
      "                                                                 \n",
      " dense_2 (Dense)             (None, 16)                1040      \n",
      "                                                                 \n",
      " dense_3 (Dense)             (None, 10)                170       \n",
      "                                                                 \n",
      "=================================================================\n",
      "Total params: 42204 (164.86 KB)\n",
      "Trainable params: 42204 (164.86 KB)\n",
      "Non-trainable params: 0 (0.00 Byte)\n",
      "_________________________________________________________________\n"
     ]
    }
   ],
   "source": [
    "# compiling and getting summary of model\n",
    "model.compile(optimizer='adam', loss='categorical_crossentropy', metrics=['accuracy']) \n",
    "model.summary()"
   ]
  },
  {
   "cell_type": "code",
   "execution_count": 16,
   "id": "a492ef72",
   "metadata": {},
   "outputs": [],
   "source": [
    "# reshaping image vector into desired shape\n",
    "xtrain2=x_train.reshape(60000,28,28,1)\n",
    "xtest2=x_test.reshape(10000,28,28,1)"
   ]
  },
  {
   "cell_type": "code",
   "execution_count": 17,
   "id": "322b6436",
   "metadata": {},
   "outputs": [
    {
     "name": "stdout",
     "output_type": "stream",
     "text": [
      "Epoch 1/20\n",
      "WARNING:tensorflow:From C:\\Users\\Naman\\AppData\\Roaming\\Python\\Python310\\site-packages\\keras\\src\\utils\\tf_utils.py:492: The name tf.ragged.RaggedTensorValue is deprecated. Please use tf.compat.v1.ragged.RaggedTensorValue instead.\n",
      "\n",
      "WARNING:tensorflow:From C:\\Users\\Naman\\AppData\\Roaming\\Python\\Python310\\site-packages\\keras\\src\\engine\\base_layer_utils.py:384: The name tf.executing_eagerly_outside_functions is deprecated. Please use tf.compat.v1.executing_eagerly_outside_functions instead.\n",
      "\n",
      "60/60 [==============================] - 5s 49ms/step - loss: 1.4330 - accuracy: 0.5524 - val_loss: 0.5755 - val_accuracy: 0.8162\n",
      "Epoch 2/20\n",
      "60/60 [==============================] - 2s 38ms/step - loss: 0.4187 - accuracy: 0.8737 - val_loss: 0.2822 - val_accuracy: 0.9199\n",
      "Epoch 3/20\n",
      "60/60 [==============================] - 2s 38ms/step - loss: 0.2419 - accuracy: 0.9286 - val_loss: 0.1937 - val_accuracy: 0.9433\n",
      "Epoch 4/20\n",
      "60/60 [==============================] - 2s 40ms/step - loss: 0.1771 - accuracy: 0.9474 - val_loss: 0.1418 - val_accuracy: 0.9591\n",
      "Epoch 5/20\n",
      "60/60 [==============================] - 2s 41ms/step - loss: 0.1408 - accuracy: 0.9577 - val_loss: 0.1152 - val_accuracy: 0.9657\n",
      "Epoch 6/20\n",
      "60/60 [==============================] - 3s 42ms/step - loss: 0.1215 - accuracy: 0.9635 - val_loss: 0.1065 - val_accuracy: 0.9686\n",
      "Epoch 7/20\n",
      "60/60 [==============================] - 3s 45ms/step - loss: 0.1076 - accuracy: 0.9675 - val_loss: 0.0914 - val_accuracy: 0.9714\n",
      "Epoch 8/20\n",
      "60/60 [==============================] - 3s 43ms/step - loss: 0.0978 - accuracy: 0.9700 - val_loss: 0.0885 - val_accuracy: 0.9723\n",
      "Epoch 9/20\n",
      "60/60 [==============================] - 2s 41ms/step - loss: 0.0898 - accuracy: 0.9727 - val_loss: 0.0740 - val_accuracy: 0.9783\n",
      "Epoch 10/20\n",
      "60/60 [==============================] - 2s 40ms/step - loss: 0.0816 - accuracy: 0.9747 - val_loss: 0.0709 - val_accuracy: 0.9772\n",
      "Epoch 11/20\n",
      "60/60 [==============================] - 3s 46ms/step - loss: 0.0780 - accuracy: 0.9763 - val_loss: 0.0730 - val_accuracy: 0.9769\n",
      "Epoch 12/20\n",
      "60/60 [==============================] - 3s 43ms/step - loss: 0.0723 - accuracy: 0.9777 - val_loss: 0.0616 - val_accuracy: 0.9800\n",
      "Epoch 13/20\n",
      "60/60 [==============================] - 2s 41ms/step - loss: 0.0656 - accuracy: 0.9791 - val_loss: 0.0622 - val_accuracy: 0.9797\n",
      "Epoch 14/20\n",
      "60/60 [==============================] - 2s 42ms/step - loss: 0.0638 - accuracy: 0.9797 - val_loss: 0.0579 - val_accuracy: 0.9811\n",
      "Epoch 15/20\n",
      "60/60 [==============================] - 2s 40ms/step - loss: 0.0589 - accuracy: 0.9817 - val_loss: 0.0586 - val_accuracy: 0.9816\n",
      "Epoch 16/20\n",
      "60/60 [==============================] - 2s 41ms/step - loss: 0.0552 - accuracy: 0.9828 - val_loss: 0.0534 - val_accuracy: 0.9827\n",
      "Epoch 17/20\n",
      "60/60 [==============================] - 2s 39ms/step - loss: 0.0532 - accuracy: 0.9833 - val_loss: 0.0624 - val_accuracy: 0.9806\n",
      "Epoch 18/20\n",
      "60/60 [==============================] - 2s 40ms/step - loss: 0.0526 - accuracy: 0.9837 - val_loss: 0.0485 - val_accuracy: 0.9844\n",
      "Epoch 19/20\n",
      "60/60 [==============================] - 3s 45ms/step - loss: 0.0502 - accuracy: 0.9840 - val_loss: 0.0539 - val_accuracy: 0.9829\n",
      "Epoch 20/20\n",
      "60/60 [==============================] - 3s 42ms/step - loss: 0.0468 - accuracy: 0.9853 - val_loss: 0.0489 - val_accuracy: 0.9840\n"
     ]
    },
    {
     "data": {
      "text/plain": [
       "<keras.src.callbacks.History at 0x1f77e719ff0>"
      ]
     },
     "execution_count": 17,
     "metadata": {},
     "output_type": "execute_result"
    }
   ],
   "source": [
    "# training model\n",
    "model.fit(xtrain2,y_train,epochs=20,batch_size=1000,verbose=True,validation_data=(xtest2,y_test))"
   ]
  },
  {
   "cell_type": "code",
   "execution_count": 18,
   "id": "474b97d2",
   "metadata": {},
   "outputs": [
    {
     "name": "stderr",
     "output_type": "stream",
     "text": [
      "C:\\Users\\Naman\\AppData\\Roaming\\Python\\Python310\\site-packages\\keras\\src\\engine\\training.py:3103: UserWarning: You are saving your model as an HDF5 file via `model.save()`. This file format is considered legacy. We recommend using instead the native Keras format, e.g. `model.save('my_model.keras')`.\n",
      "  saving_api.save_model(\n"
     ]
    }
   ],
   "source": [
    "# saving model \n",
    "model.save(\"mnist.h5\")"
   ]
  },
  {
   "cell_type": "code",
   "execution_count": null,
   "id": "fca9f5c5",
   "metadata": {},
   "outputs": [],
   "source": []
  }
 ],
 "metadata": {
  "kernelspec": {
   "display_name": "Python 3 (ipykernel)",
   "language": "python",
   "name": "python3"
  },
  "language_info": {
   "codemirror_mode": {
    "name": "ipython",
    "version": 3
   },
   "file_extension": ".py",
   "mimetype": "text/x-python",
   "name": "python",
   "nbconvert_exporter": "python",
   "pygments_lexer": "ipython3",
   "version": "3.10.6"
  }
 },
 "nbformat": 4,
 "nbformat_minor": 5
}
